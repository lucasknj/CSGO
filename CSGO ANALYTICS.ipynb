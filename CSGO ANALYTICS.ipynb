{
 "cells": [
  {
   "cell_type": "code",
   "execution_count": 1,
   "metadata": {},
   "outputs": [],
   "source": [
    "import pandas as pd\n",
    "import requests\n",
    "import numpy as np\n",
    "import datetime as datetime\n",
    "from bs4 import BeautifulSoup\n",
    "\n",
    "import time\n",
    "import re"
   ]
  },
  {
   "cell_type": "code",
   "execution_count": 2,
   "metadata": {},
   "outputs": [],
   "source": [
    "from jupyterthemes import jtplot\n",
    "jtplot.style(theme='monokai', context='notebook', ticks=True)"
   ]
  },
  {
   "cell_type": "code",
   "execution_count": 44,
   "metadata": {},
   "outputs": [],
   "source": [
    "import codecs\n",
    "f = codecs.open(\"cs.html\", 'r', 'utf-8')\n",
    "soup = BeautifulSoup(f, \"html.parser\")"
   ]
  },
  {
   "cell_type": "markdown",
   "metadata": {},
   "source": [
    "#### Nome e ID"
   ]
  },
  {
   "cell_type": "code",
   "execution_count": 45,
   "metadata": {},
   "outputs": [],
   "source": [
    "perfil = soup.find(\"span\",{\"class\":\"profile_small_header_name\"})\n",
    "nome = perfil.text\n",
    "numeroId = perfil.a['href'].split(\"/\")[-1]"
   ]
  },
  {
   "cell_type": "markdown",
   "metadata": {},
   "source": [
    "#### Partidas : Mapa, Duração e Data"
   ]
  },
  {
   "cell_type": "code",
   "execution_count": 46,
   "metadata": {},
   "outputs": [],
   "source": [
    "partidas =[]\n",
    "for csgo_scoreboard_inner_left in soup.find_all(\"table\",{\"class\":\"csgo_scoreboard_inner_left\"},'tbody'):\n",
    "    partidas.append(csgo_scoreboard_inner_left.text)"
   ]
  },
  {
   "cell_type": "code",
   "execution_count": 47,
   "metadata": {},
   "outputs": [
    {
     "name": "stdout",
     "output_type": "stream",
     "text": [
      "0.003987789154052734\n"
     ]
    }
   ],
   "source": [
    "mapa = []\n",
    "duracao = []\n",
    "data = []\n",
    "inicio = time.time()\n",
    "\n",
    "for i in range(0,len(partidas)):\n",
    "    \n",
    "    #MAPAS\n",
    "    if len(partidas[i].split()[2]) == 10:\n",
    "        mapa.append(partidas[i].split()[1])\n",
    "        data.append(partidas[i].split()[2])\n",
    "        duracao.append(partidas[i].split()[12])\n",
    "    else:\n",
    "        mapa.append(partidas[i].split()[1]+' '+partidas[i].split()[2])\n",
    "        data.append(partidas[i].split()[3])\n",
    "        duracao.append(partidas[i].split()[13])\n",
    "fim = time.time()\n",
    "print(fim - inicio)"
   ]
  },
  {
   "cell_type": "markdown",
   "metadata": {},
   "source": [
    "#### Partidas: Placar e Localização do Jogador"
   ]
  },
  {
   "cell_type": "code",
   "execution_count": 48,
   "metadata": {},
   "outputs": [
    {
     "name": "stdout",
     "output_type": "stream",
     "text": [
      "1.6184730529785156\n"
     ]
    }
   ],
   "source": [
    "teste = []\n",
    "Placar = []\n",
    "Localizacao = []\n",
    "\n",
    "inicio = time.time()\n",
    "for p in soup.find_all(\"table\",{\"class\":\"csgo_scoreboard_inner_right banchecker-formatted\"}):\n",
    "    teste.append(p)\n",
    "    #Criacao do Placar\n",
    "    Placar.append(re.findall(r'([0-9]+\\s:\\s[0-9]+)',p.text)[0])\n",
    "    \n",
    "    #Marcar se o jogador esta na parte de cima ou de baixo da tabela resultado\n",
    "    if p.text.find(re.findall(r'([0-9]+\\s:\\s[0-9]+)',p.text)[0]) > p.text.find(nome):\n",
    "        Localizacao.append(\"TOP\")\n",
    "    else:\n",
    "        Localizacao.append(\"BOT\")\n",
    "fim = time.time()\n",
    "print(fim - inicio)"
   ]
  },
  {
   "cell_type": "markdown",
   "metadata": {},
   "source": [
    "#### Partidas : Ping, Vítimas, Assistencias, Mortes, % de HS e Pontos"
   ]
  },
  {
   "cell_type": "code",
   "execution_count": 49,
   "metadata": {},
   "outputs": [
    {
     "name": "stdout",
     "output_type": "stream",
     "text": [
      "0.624164342880249\n"
     ]
    }
   ],
   "source": [
    "ping = []\n",
    "vitimas = []\n",
    "assistencias = []\n",
    "mortes =[]\n",
    "mvp =[]\n",
    "taxa_de_HS = []\n",
    "pontos = []\n",
    "status = []\n",
    "\n",
    "inicio = time.time()\n",
    "for registro in soup.find_all(\"tr\",{\"data-steamid64\":numeroId}):\n",
    "    \n",
    "    #Troca o \"\\xa0\" por 0\n",
    "    p = registro.text.replace(\"\\xa0\",\"0\")\n",
    "\n",
    "    status.append(p)\n",
    "    #ping.append(p.split()[1])\n",
    "    vitimas.append(p.split()[2])\n",
    "    assistencias.append(p.split()[3])\n",
    "    mortes.append(p.split()[4])\n",
    "    mvp.append(p.split()[5])\n",
    "    taxa_de_HS.append(p.split()[6])\n",
    "    pontos.append(p.split()[7])\n",
    "\n",
    "fim = time.time()\n",
    "print(fim - inicio)"
   ]
  },
  {
   "cell_type": "markdown",
   "metadata": {},
   "source": [
    "#### Criação do DataFrame com os dados coletados do HTML"
   ]
  },
  {
   "cell_type": "code",
   "execution_count": 50,
   "metadata": {},
   "outputs": [],
   "source": [
    "result = pd.DataFrame({'Mapa':mapa,'Duração':duracao,'Data':data,'Vitimas':vitimas,'Assistencias':assistencias,\n",
    "                      ## 'Ano-Mês':'','Ano':'',\n",
    "                  'Mortes':mortes,'MVP':mvp,'% de HS':taxa_de_HS,'Pontos':pontos,'Placar':Placar,'Localizacao':Localizacao,\n",
    "                     'Rounds Ganhos':\"\",'Rounds Perdidos':\"\",'Rounds Jogados':'','Resultado':\"\"})"
   ]
  },
  {
   "cell_type": "markdown",
   "metadata": {},
   "source": [
    "#### Criação de novas Colunas : Rounds Ganhos, Rounds Perdidos, Resultado da partida"
   ]
  },
  {
   "cell_type": "code",
   "execution_count": 51,
   "metadata": {},
   "outputs": [
    {
     "name": "stdout",
     "output_type": "stream",
     "text": [
      "0.285855770111084\n"
     ]
    }
   ],
   "source": [
    "inicio = time.time()\n",
    "for i in range(0,len(result)):\n",
    "    if result.Localizacao[i] == \"TOP\":\n",
    "        result['Rounds Ganhos'][i] = int(result.Placar[i].split()[0])\n",
    "        result['Rounds Perdidos'][i] = int(result.Placar[i].split()[2])\n",
    "    else:\n",
    "        result['Rounds Ganhos'][i] = int(result.Placar[i].split()[2])\n",
    "        result['Rounds Perdidos'][i] = int(result.Placar[i].split()[0])\n",
    "        \n",
    "    result['Rounds Jogados'][i] = result['Rounds Perdidos'][i] + result['Rounds Ganhos'][i]\n",
    "    \n",
    "    if result['Rounds Ganhos'][i] == 16:\n",
    "        result['Resultado'][i] = 'Vitória'\n",
    "    elif result['Rounds Ganhos'][i] == 15:\n",
    "        result['Resultado'][i] = 'Empate'\n",
    "    else:\n",
    "        result['Resultado'][i] = \"Derrota\"\n",
    "        \n",
    "result.drop(['Placar','Localizacao'],axis=1,inplace=True)\n",
    "fim = time.time()\n",
    "print(fim - inicio)"
   ]
  },
  {
   "cell_type": "markdown",
   "metadata": {},
   "source": [
    "#### Padronizando MVP e % de HS (Tirar o char ★ e a %)"
   ]
  },
  {
   "cell_type": "code",
   "execution_count": 52,
   "metadata": {},
   "outputs": [
    {
     "name": "stdout",
     "output_type": "stream",
     "text": [
      "0.13660693168640137\n"
     ]
    }
   ],
   "source": [
    "inicio = time.time()\n",
    "for i in range(0,len(result)):\n",
    "    \n",
    "    if len(result['% de HS'][i]) != 1:\n",
    "        result['% de HS'][i] = result['% de HS'][i][:-1]\n",
    "    \n",
    "    if '★' in result['MVP'][i]:\n",
    "        if len(result['MVP'][i]) == 1 :\n",
    "            result['MVP'][i] = 1\n",
    "        else:  \n",
    "            result['MVP'][i]= int(result['MVP'][i][1:])\n",
    "fim = time.time()\n",
    "print(fim - inicio)"
   ]
  },
  {
   "cell_type": "markdown",
   "metadata": {},
   "source": [
    "#### Criar uma lista com os dados que serao transformados em float"
   ]
  },
  {
   "cell_type": "code",
   "execution_count": 53,
   "metadata": {},
   "outputs": [
    {
     "name": "stdout",
     "output_type": "stream",
     "text": [
      "0.018949508666992188\n"
     ]
    }
   ],
   "source": [
    "inicio = time.time()\n",
    "colToFloat = ['Vitimas','Assistencias','Mortes','MVP','% de HS','Pontos','Rounds Ganhos','Rounds Perdidos','Rounds Jogados']\n",
    "\n",
    "for i in colToFloat:\n",
    "    result[[i]] = result[[i]].astype(int)\n",
    "fim = time.time()\n",
    "print(fim - inicio)"
   ]
  },
  {
   "cell_type": "markdown",
   "metadata": {},
   "source": [
    "#### Padronizar Data"
   ]
  },
  {
   "cell_type": "code",
   "execution_count": 54,
   "metadata": {},
   "outputs": [
    {
     "name": "stdout",
     "output_type": "stream",
     "text": [
      "0.012964963912963867\n"
     ]
    }
   ],
   "source": [
    "inicio = time.time()\n",
    "result['Data'] = result['Data'].apply(lambda x: datetime.datetime.strptime(x,\"%Y-%m-%d\").strftime(\"%d-%m-%Y\"))\n",
    "fim = time.time()\n",
    "print(fim - inicio)"
   ]
  },
  {
   "cell_type": "code",
   "execution_count": 55,
   "metadata": {
    "scrolled": true
   },
   "outputs": [
    {
     "name": "stdout",
     "output_type": "stream",
     "text": [
      "0.01094961166381836\n"
     ]
    }
   ],
   "source": [
    "inicio = time.time()\n",
    "result['Duração'] = result['Duração'].apply(lambda x : pd.to_timedelta('00:'+x))\n",
    "fim = time.time()\n",
    "print(fim - inicio)"
   ]
  },
  {
   "cell_type": "markdown",
   "metadata": {},
   "source": [
    "#### Gerar coluna de Mês e ano"
   ]
  },
  {
   "cell_type": "code",
   "execution_count": 56,
   "metadata": {},
   "outputs": [
    {
     "name": "stdout",
     "output_type": "stream",
     "text": [
      "0.003962993621826172\n"
     ]
    }
   ],
   "source": [
    "inicio = time.time()\n",
    "result['Ano-Mês'] = result['Data'].apply(lambda x : x.split('-')[2])+'-'+result['Data'].apply(lambda x : x.split('-')[1])\n",
    "result['Ano'] = result['Data'].apply(lambda x : x.split('-')[2])\n",
    "fim = time.time()\n",
    "print(fim - inicio)"
   ]
  },
  {
   "cell_type": "code",
   "execution_count": 57,
   "metadata": {},
   "outputs": [
    {
     "data": {
      "text/html": [
       "<div>\n",
       "<style scoped>\n",
       "    .dataframe tbody tr th:only-of-type {\n",
       "        vertical-align: middle;\n",
       "    }\n",
       "\n",
       "    .dataframe tbody tr th {\n",
       "        vertical-align: top;\n",
       "    }\n",
       "\n",
       "    .dataframe thead th {\n",
       "        text-align: right;\n",
       "    }\n",
       "</style>\n",
       "<table border=\"1\" class=\"dataframe\">\n",
       "  <thead>\n",
       "    <tr style=\"text-align: right;\">\n",
       "      <th></th>\n",
       "      <th>Mapa</th>\n",
       "      <th>Duração</th>\n",
       "      <th>Data</th>\n",
       "      <th>Vitimas</th>\n",
       "      <th>Assistencias</th>\n",
       "      <th>Mortes</th>\n",
       "      <th>MVP</th>\n",
       "      <th>% de HS</th>\n",
       "      <th>Pontos</th>\n",
       "      <th>Rounds Ganhos</th>\n",
       "      <th>Rounds Perdidos</th>\n",
       "      <th>Rounds Jogados</th>\n",
       "      <th>Resultado</th>\n",
       "      <th>Ano-Mês</th>\n",
       "      <th>Ano</th>\n",
       "    </tr>\n",
       "  </thead>\n",
       "  <tbody>\n",
       "    <tr>\n",
       "      <th>0</th>\n",
       "      <td>Mirage</td>\n",
       "      <td>00:42:32</td>\n",
       "      <td>27-08-2020</td>\n",
       "      <td>19</td>\n",
       "      <td>1</td>\n",
       "      <td>18</td>\n",
       "      <td>2</td>\n",
       "      <td>10</td>\n",
       "      <td>42</td>\n",
       "      <td>12</td>\n",
       "      <td>16</td>\n",
       "      <td>28</td>\n",
       "      <td>Derrota</td>\n",
       "      <td>2020-08</td>\n",
       "      <td>2020</td>\n",
       "    </tr>\n",
       "    <tr>\n",
       "      <th>1</th>\n",
       "      <td>Mirage</td>\n",
       "      <td>00:40:17</td>\n",
       "      <td>27-08-2020</td>\n",
       "      <td>14</td>\n",
       "      <td>2</td>\n",
       "      <td>19</td>\n",
       "      <td>2</td>\n",
       "      <td>28</td>\n",
       "      <td>34</td>\n",
       "      <td>8</td>\n",
       "      <td>16</td>\n",
       "      <td>24</td>\n",
       "      <td>Derrota</td>\n",
       "      <td>2020-08</td>\n",
       "      <td>2020</td>\n",
       "    </tr>\n",
       "    <tr>\n",
       "      <th>2</th>\n",
       "      <td>Overpass</td>\n",
       "      <td>00:33:54</td>\n",
       "      <td>27-08-2020</td>\n",
       "      <td>10</td>\n",
       "      <td>4</td>\n",
       "      <td>8</td>\n",
       "      <td>1</td>\n",
       "      <td>40</td>\n",
       "      <td>34</td>\n",
       "      <td>5</td>\n",
       "      <td>16</td>\n",
       "      <td>21</td>\n",
       "      <td>Derrota</td>\n",
       "      <td>2020-08</td>\n",
       "      <td>2020</td>\n",
       "    </tr>\n",
       "    <tr>\n",
       "      <th>3</th>\n",
       "      <td>Mirage</td>\n",
       "      <td>00:46:30</td>\n",
       "      <td>26-08-2020</td>\n",
       "      <td>17</td>\n",
       "      <td>2</td>\n",
       "      <td>21</td>\n",
       "      <td>2</td>\n",
       "      <td>35</td>\n",
       "      <td>50</td>\n",
       "      <td>16</td>\n",
       "      <td>13</td>\n",
       "      <td>29</td>\n",
       "      <td>Vitória</td>\n",
       "      <td>2020-08</td>\n",
       "      <td>2020</td>\n",
       "    </tr>\n",
       "    <tr>\n",
       "      <th>4</th>\n",
       "      <td>Mirage</td>\n",
       "      <td>00:41:10</td>\n",
       "      <td>26-08-2020</td>\n",
       "      <td>15</td>\n",
       "      <td>2</td>\n",
       "      <td>20</td>\n",
       "      <td>2</td>\n",
       "      <td>20</td>\n",
       "      <td>36</td>\n",
       "      <td>16</td>\n",
       "      <td>10</td>\n",
       "      <td>26</td>\n",
       "      <td>Vitória</td>\n",
       "      <td>2020-08</td>\n",
       "      <td>2020</td>\n",
       "    </tr>\n",
       "  </tbody>\n",
       "</table>\n",
       "</div>"
      ],
      "text/plain": [
       "       Mapa  Duração        Data  Vitimas  Assistencias  Mortes  MVP  % de HS  \\\n",
       "0    Mirage 00:42:32  27-08-2020       19             1      18    2       10   \n",
       "1    Mirage 00:40:17  27-08-2020       14             2      19    2       28   \n",
       "2  Overpass 00:33:54  27-08-2020       10             4       8    1       40   \n",
       "3    Mirage 00:46:30  26-08-2020       17             2      21    2       35   \n",
       "4    Mirage 00:41:10  26-08-2020       15             2      20    2       20   \n",
       "\n",
       "   Pontos  Rounds Ganhos  Rounds Perdidos  Rounds Jogados Resultado  Ano-Mês  \\\n",
       "0      42             12               16              28   Derrota  2020-08   \n",
       "1      34              8               16              24   Derrota  2020-08   \n",
       "2      34              5               16              21   Derrota  2020-08   \n",
       "3      50             16               13              29   Vitória  2020-08   \n",
       "4      36             16               10              26   Vitória  2020-08   \n",
       "\n",
       "    Ano  \n",
       "0  2020  \n",
       "1  2020  \n",
       "2  2020  \n",
       "3  2020  \n",
       "4  2020  "
      ]
     },
     "execution_count": 57,
     "metadata": {},
     "output_type": "execute_result"
    }
   ],
   "source": [
    "result.head()"
   ]
  },
  {
   "cell_type": "code",
   "execution_count": 58,
   "metadata": {},
   "outputs": [
    {
     "name": "stdout",
     "output_type": "stream",
     "text": [
      "<class 'pandas.core.frame.DataFrame'>\n",
      "RangeIndex: 782 entries, 0 to 781\n",
      "Data columns (total 15 columns):\n",
      "Mapa               782 non-null object\n",
      "Duração            782 non-null timedelta64[ns]\n",
      "Data               782 non-null object\n",
      "Vitimas            782 non-null int32\n",
      "Assistencias       782 non-null int32\n",
      "Mortes             782 non-null int32\n",
      "MVP                782 non-null int32\n",
      "% de HS            782 non-null int32\n",
      "Pontos             782 non-null int32\n",
      "Rounds Ganhos      782 non-null int32\n",
      "Rounds Perdidos    782 non-null int32\n",
      "Rounds Jogados     782 non-null int32\n",
      "Resultado          782 non-null object\n",
      "Ano-Mês            782 non-null object\n",
      "Ano                782 non-null object\n",
      "dtypes: int32(9), object(5), timedelta64[ns](1)\n",
      "memory usage: 64.2+ KB\n"
     ]
    }
   ],
   "source": [
    "result.info()"
   ]
  },
  {
   "cell_type": "markdown",
   "metadata": {},
   "source": [
    "#### Gerar dummies da coluna Resultado"
   ]
  },
  {
   "cell_type": "code",
   "execution_count": 59,
   "metadata": {
    "scrolled": true
   },
   "outputs": [
    {
     "name": "stdout",
     "output_type": "stream",
     "text": [
      "0.0069582462310791016\n"
     ]
    }
   ],
   "source": [
    "inicio = time.time()\n",
    "result = pd.concat([result,pd.get_dummies(result[['Resultado']])],axis=1)\n",
    "fim = time.time()\n",
    "print(fim - inicio)"
   ]
  },
  {
   "cell_type": "markdown",
   "metadata": {},
   "source": [
    "#### Gerar lista com o nome dos mapas e lista de colunas"
   ]
  },
  {
   "cell_type": "code",
   "execution_count": 60,
   "metadata": {},
   "outputs": [],
   "source": [
    "lista_mapas = result.Mapa.unique().tolist()"
   ]
  },
  {
   "cell_type": "code",
   "execution_count": 61,
   "metadata": {},
   "outputs": [
    {
     "data": {
      "text/plain": [
       "['Mirage', 'Overpass', 'Inferno', 'Dust II', 'Cache', 'Cobblestone']"
      ]
     },
     "execution_count": 61,
     "metadata": {},
     "output_type": "execute_result"
    }
   ],
   "source": [
    "lista_mapas"
   ]
  },
  {
   "cell_type": "code",
   "execution_count": 62,
   "metadata": {},
   "outputs": [
    {
     "data": {
      "text/plain": [
       "['Duração',\n",
       " 'Vitimas',\n",
       " 'Assistencias',\n",
       " 'Mortes',\n",
       " 'MVP',\n",
       " '% de HS',\n",
       " 'Pontos',\n",
       " 'Rounds Ganhos',\n",
       " 'Rounds Perdidos',\n",
       " 'Rounds Jogados',\n",
       " 'Resultado_Derrota',\n",
       " 'Resultado_Empate',\n",
       " 'Resultado_Vitória']"
      ]
     },
     "execution_count": 62,
     "metadata": {},
     "output_type": "execute_result"
    }
   ],
   "source": [
    "result.describe().columns.tolist()"
   ]
  },
  {
   "cell_type": "code",
   "execution_count": 63,
   "metadata": {},
   "outputs": [],
   "source": [
    "list_colunas = result.describe().columns.tolist()"
   ]
  },
  {
   "cell_type": "code",
   "execution_count": 64,
   "metadata": {},
   "outputs": [],
   "source": [
    "col_para_soma = result.drop(['Duração','% de HS'],axis=1).describe().columns.tolist()\n",
    "col_para_media = result.drop(['Duração'],axis=1).describe().columns.tolist()"
   ]
  },
  {
   "cell_type": "markdown",
   "metadata": {},
   "source": [
    "#### df agrupamento por soma e media"
   ]
  },
  {
   "cell_type": "code",
   "execution_count": 65,
   "metadata": {},
   "outputs": [
    {
     "name": "stdout",
     "output_type": "stream",
     "text": [
      "0.007979631423950195\n"
     ]
    }
   ],
   "source": [
    "inicio = time.time()\n",
    "map_media = result.groupby('Mapa')[list_colunas].mean().round(2)\n",
    "fim = time.time()\n",
    "print(fim - inicio)"
   ]
  },
  {
   "cell_type": "code",
   "execution_count": 66,
   "metadata": {},
   "outputs": [
    {
     "data": {
      "text/html": [
       "<div>\n",
       "<style scoped>\n",
       "    .dataframe tbody tr th:only-of-type {\n",
       "        vertical-align: middle;\n",
       "    }\n",
       "\n",
       "    .dataframe tbody tr th {\n",
       "        vertical-align: top;\n",
       "    }\n",
       "\n",
       "    .dataframe thead th {\n",
       "        text-align: right;\n",
       "    }\n",
       "</style>\n",
       "<table border=\"1\" class=\"dataframe\">\n",
       "  <thead>\n",
       "    <tr style=\"text-align: right;\">\n",
       "      <th></th>\n",
       "      <th>Vitimas</th>\n",
       "      <th>Assistencias</th>\n",
       "      <th>Mortes</th>\n",
       "      <th>MVP</th>\n",
       "      <th>% de HS</th>\n",
       "      <th>Pontos</th>\n",
       "      <th>Rounds Ganhos</th>\n",
       "      <th>Rounds Perdidos</th>\n",
       "      <th>Rounds Jogados</th>\n",
       "      <th>Resultado_Derrota</th>\n",
       "      <th>Resultado_Empate</th>\n",
       "      <th>Resultado_Vitória</th>\n",
       "    </tr>\n",
       "    <tr>\n",
       "      <th>Mapa</th>\n",
       "      <th></th>\n",
       "      <th></th>\n",
       "      <th></th>\n",
       "      <th></th>\n",
       "      <th></th>\n",
       "      <th></th>\n",
       "      <th></th>\n",
       "      <th></th>\n",
       "      <th></th>\n",
       "      <th></th>\n",
       "      <th></th>\n",
       "      <th></th>\n",
       "    </tr>\n",
       "  </thead>\n",
       "  <tbody>\n",
       "    <tr>\n",
       "      <th>Cache</th>\n",
       "      <td>15.34</td>\n",
       "      <td>4.22</td>\n",
       "      <td>17.30</td>\n",
       "      <td>2.08</td>\n",
       "      <td>33.62</td>\n",
       "      <td>42.56</td>\n",
       "      <td>12.98</td>\n",
       "      <td>12.86</td>\n",
       "      <td>25.84</td>\n",
       "      <td>0.44</td>\n",
       "      <td>0.16</td>\n",
       "      <td>0.40</td>\n",
       "    </tr>\n",
       "    <tr>\n",
       "      <th>Cobblestone</th>\n",
       "      <td>13.00</td>\n",
       "      <td>6.00</td>\n",
       "      <td>19.00</td>\n",
       "      <td>1.00</td>\n",
       "      <td>61.00</td>\n",
       "      <td>34.00</td>\n",
       "      <td>16.00</td>\n",
       "      <td>12.00</td>\n",
       "      <td>28.00</td>\n",
       "      <td>0.00</td>\n",
       "      <td>0.00</td>\n",
       "      <td>1.00</td>\n",
       "    </tr>\n",
       "    <tr>\n",
       "      <th>Dust II</th>\n",
       "      <td>16.38</td>\n",
       "      <td>3.69</td>\n",
       "      <td>18.08</td>\n",
       "      <td>2.15</td>\n",
       "      <td>29.46</td>\n",
       "      <td>40.46</td>\n",
       "      <td>15.15</td>\n",
       "      <td>10.69</td>\n",
       "      <td>25.85</td>\n",
       "      <td>0.15</td>\n",
       "      <td>0.00</td>\n",
       "      <td>0.85</td>\n",
       "    </tr>\n",
       "    <tr>\n",
       "      <th>Inferno</th>\n",
       "      <td>15.33</td>\n",
       "      <td>4.00</td>\n",
       "      <td>17.78</td>\n",
       "      <td>1.67</td>\n",
       "      <td>28.69</td>\n",
       "      <td>39.72</td>\n",
       "      <td>12.86</td>\n",
       "      <td>12.97</td>\n",
       "      <td>25.83</td>\n",
       "      <td>0.42</td>\n",
       "      <td>0.11</td>\n",
       "      <td>0.47</td>\n",
       "    </tr>\n",
       "    <tr>\n",
       "      <th>Mirage</th>\n",
       "      <td>14.75</td>\n",
       "      <td>4.28</td>\n",
       "      <td>17.43</td>\n",
       "      <td>1.79</td>\n",
       "      <td>28.31</td>\n",
       "      <td>39.57</td>\n",
       "      <td>13.12</td>\n",
       "      <td>12.47</td>\n",
       "      <td>25.59</td>\n",
       "      <td>0.43</td>\n",
       "      <td>0.10</td>\n",
       "      <td>0.47</td>\n",
       "    </tr>\n",
       "    <tr>\n",
       "      <th>Overpass</th>\n",
       "      <td>15.79</td>\n",
       "      <td>4.23</td>\n",
       "      <td>17.83</td>\n",
       "      <td>2.13</td>\n",
       "      <td>25.29</td>\n",
       "      <td>41.40</td>\n",
       "      <td>13.30</td>\n",
       "      <td>13.17</td>\n",
       "      <td>26.47</td>\n",
       "      <td>0.41</td>\n",
       "      <td>0.11</td>\n",
       "      <td>0.47</td>\n",
       "    </tr>\n",
       "  </tbody>\n",
       "</table>\n",
       "</div>"
      ],
      "text/plain": [
       "             Vitimas  Assistencias  Mortes   MVP  % de HS  Pontos  \\\n",
       "Mapa                                                                \n",
       "Cache          15.34          4.22   17.30  2.08    33.62   42.56   \n",
       "Cobblestone    13.00          6.00   19.00  1.00    61.00   34.00   \n",
       "Dust II        16.38          3.69   18.08  2.15    29.46   40.46   \n",
       "Inferno        15.33          4.00   17.78  1.67    28.69   39.72   \n",
       "Mirage         14.75          4.28   17.43  1.79    28.31   39.57   \n",
       "Overpass       15.79          4.23   17.83  2.13    25.29   41.40   \n",
       "\n",
       "             Rounds Ganhos  Rounds Perdidos  Rounds Jogados  \\\n",
       "Mapa                                                          \n",
       "Cache                12.98            12.86           25.84   \n",
       "Cobblestone          16.00            12.00           28.00   \n",
       "Dust II              15.15            10.69           25.85   \n",
       "Inferno              12.86            12.97           25.83   \n",
       "Mirage               13.12            12.47           25.59   \n",
       "Overpass             13.30            13.17           26.47   \n",
       "\n",
       "             Resultado_Derrota  Resultado_Empate  Resultado_Vitória  \n",
       "Mapa                                                                 \n",
       "Cache                     0.44              0.16               0.40  \n",
       "Cobblestone               0.00              0.00               1.00  \n",
       "Dust II                   0.15              0.00               0.85  \n",
       "Inferno                   0.42              0.11               0.47  \n",
       "Mirage                    0.43              0.10               0.47  \n",
       "Overpass                  0.41              0.11               0.47  "
      ]
     },
     "execution_count": 66,
     "metadata": {},
     "output_type": "execute_result"
    }
   ],
   "source": [
    "map_media"
   ]
  },
  {
   "cell_type": "code",
   "execution_count": 67,
   "metadata": {},
   "outputs": [
    {
     "name": "stdout",
     "output_type": "stream",
     "text": [
      "0.03487968444824219\n"
     ]
    }
   ],
   "source": [
    "inicio = time.time()\n",
    "map_soma = result.groupby('Mapa')[result.drop(['% de HS'],axis=1).describe().columns.tolist()].sum()\n",
    "fim = time.time()\n",
    "print(fim - inicio)"
   ]
  },
  {
   "cell_type": "code",
   "execution_count": 68,
   "metadata": {},
   "outputs": [],
   "source": [
    "map_contagem = result.groupby('Mapa')['Mapa'].count()"
   ]
  },
  {
   "cell_type": "markdown",
   "metadata": {},
   "source": [
    "#### Criando DF informações Gerais"
   ]
  },
  {
   "cell_type": "code",
   "execution_count": 69,
   "metadata": {},
   "outputs": [],
   "source": [
    "dfif = pd.DataFrame(result[list_colunas].sum()).T"
   ]
  },
  {
   "cell_type": "code",
   "execution_count": 70,
   "metadata": {},
   "outputs": [
    {
     "data": {
      "text/html": [
       "<div>\n",
       "<style scoped>\n",
       "    .dataframe tbody tr th:only-of-type {\n",
       "        vertical-align: middle;\n",
       "    }\n",
       "\n",
       "    .dataframe tbody tr th {\n",
       "        vertical-align: top;\n",
       "    }\n",
       "\n",
       "    .dataframe thead th {\n",
       "        text-align: right;\n",
       "    }\n",
       "</style>\n",
       "<table border=\"1\" class=\"dataframe\">\n",
       "  <thead>\n",
       "    <tr style=\"text-align: right;\">\n",
       "      <th></th>\n",
       "      <th>Duração</th>\n",
       "      <th>Vitimas</th>\n",
       "      <th>Assistencias</th>\n",
       "      <th>Mortes</th>\n",
       "      <th>MVP</th>\n",
       "      <th>% de HS</th>\n",
       "      <th>Pontos</th>\n",
       "      <th>Rounds Ganhos</th>\n",
       "      <th>Rounds Perdidos</th>\n",
       "      <th>Rounds Jogados</th>\n",
       "      <th>Resultado_Derrota</th>\n",
       "      <th>Resultado_Empate</th>\n",
       "      <th>Resultado_Vitória</th>\n",
       "    </tr>\n",
       "  </thead>\n",
       "  <tbody>\n",
       "    <tr>\n",
       "      <th>0</th>\n",
       "      <td>22 days 19:12:49</td>\n",
       "      <td>11680</td>\n",
       "      <td>3324</td>\n",
       "      <td>13672</td>\n",
       "      <td>1437</td>\n",
       "      <td>22253</td>\n",
       "      <td>31233</td>\n",
       "      <td>10286</td>\n",
       "      <td>9816</td>\n",
       "      <td>20102</td>\n",
       "      <td>330</td>\n",
       "      <td>82</td>\n",
       "      <td>370</td>\n",
       "    </tr>\n",
       "  </tbody>\n",
       "</table>\n",
       "</div>"
      ],
      "text/plain": [
       "            Duração Vitimas Assistencias Mortes   MVP % de HS Pontos  \\\n",
       "0  22 days 19:12:49   11680         3324  13672  1437   22253  31233   \n",
       "\n",
       "  Rounds Ganhos Rounds Perdidos Rounds Jogados Resultado_Derrota  \\\n",
       "0         10286            9816          20102               330   \n",
       "\n",
       "  Resultado_Empate Resultado_Vitória  \n",
       "0               82               370  "
      ]
     },
     "execution_count": 70,
     "metadata": {},
     "output_type": "execute_result"
    }
   ],
   "source": [
    "dfif"
   ]
  },
  {
   "cell_type": "code",
   "execution_count": 71,
   "metadata": {},
   "outputs": [],
   "source": [
    "dfif = dfif.drop(['% de HS'],axis=1)"
   ]
  },
  {
   "cell_type": "code",
   "execution_count": 72,
   "metadata": {},
   "outputs": [
    {
     "name": "stdout",
     "output_type": "stream",
     "text": [
      "0.003991127014160156\n"
     ]
    }
   ],
   "source": [
    "inicio = time.time()\n",
    "dfif['Jogo mais Recente'] = result['Data'][0]\n",
    "dfif['Jogo mais Antigo'] = result['Data'][result.shape[0]-1]\n",
    "dfif['Quantidade de Jogos'] = result.shape[0]\n",
    "dfif['% de HS'] = format(round(result['% de HS'].mean(),2))+\" %\"\n",
    "fim = time.time()\n",
    "print(fim - inicio)"
   ]
  },
  {
   "cell_type": "code",
   "execution_count": 73,
   "metadata": {},
   "outputs": [
    {
     "data": {
      "text/plain": [
       "['Duração',\n",
       " 'Vitimas',\n",
       " 'Assistencias',\n",
       " 'Mortes',\n",
       " 'MVP',\n",
       " 'Pontos',\n",
       " 'Rounds Ganhos',\n",
       " 'Rounds Perdidos',\n",
       " 'Rounds Jogados',\n",
       " 'Resultado_Derrota',\n",
       " 'Resultado_Empate',\n",
       " 'Resultado_Vitória',\n",
       " 'Jogo mais Recente',\n",
       " 'Jogo mais Antigo',\n",
       " 'Quantidade de Jogos',\n",
       " '% de HS']"
      ]
     },
     "execution_count": 73,
     "metadata": {},
     "output_type": "execute_result"
    }
   ],
   "source": [
    "dfif.columns.tolist()"
   ]
  },
  {
   "cell_type": "code",
   "execution_count": 74,
   "metadata": {},
   "outputs": [],
   "source": [
    "dfif = dfif[['Quantidade de Jogos',\n",
    " 'Jogo mais Antigo',\n",
    " 'Jogo mais Recente',\n",
    " 'Duração',\n",
    " 'Vitimas',\n",
    " 'Assistencias',\n",
    " 'Mortes',\n",
    " 'MVP',\n",
    " 'Pontos',\n",
    " '% de HS',\n",
    " 'Rounds Jogados',\n",
    " 'Rounds Ganhos',\n",
    " 'Rounds Perdidos',\n",
    " 'Resultado_Derrota',\n",
    " 'Resultado_Empate',\n",
    " 'Resultado_Vitória']]"
   ]
  },
  {
   "cell_type": "code",
   "execution_count": 75,
   "metadata": {},
   "outputs": [],
   "source": [
    "dfif = dfif.T.rename(columns={0: \"\"})"
   ]
  },
  {
   "cell_type": "code",
   "execution_count": 76,
   "metadata": {},
   "outputs": [
    {
     "data": {
      "text/html": [
       "<div>\n",
       "<style scoped>\n",
       "    .dataframe tbody tr th:only-of-type {\n",
       "        vertical-align: middle;\n",
       "    }\n",
       "\n",
       "    .dataframe tbody tr th {\n",
       "        vertical-align: top;\n",
       "    }\n",
       "\n",
       "    .dataframe thead th {\n",
       "        text-align: right;\n",
       "    }\n",
       "</style>\n",
       "<table border=\"1\" class=\"dataframe\">\n",
       "  <thead>\n",
       "    <tr style=\"text-align: right;\">\n",
       "      <th></th>\n",
       "      <th></th>\n",
       "    </tr>\n",
       "  </thead>\n",
       "  <tbody>\n",
       "    <tr>\n",
       "      <th>Quantidade de Jogos</th>\n",
       "      <td>782</td>\n",
       "    </tr>\n",
       "    <tr>\n",
       "      <th>Jogo mais Antigo</th>\n",
       "      <td>06-11-2017</td>\n",
       "    </tr>\n",
       "    <tr>\n",
       "      <th>Jogo mais Recente</th>\n",
       "      <td>27-08-2020</td>\n",
       "    </tr>\n",
       "    <tr>\n",
       "      <th>Duração</th>\n",
       "      <td>22 days 19:12:49</td>\n",
       "    </tr>\n",
       "    <tr>\n",
       "      <th>Vitimas</th>\n",
       "      <td>11680</td>\n",
       "    </tr>\n",
       "    <tr>\n",
       "      <th>Assistencias</th>\n",
       "      <td>3324</td>\n",
       "    </tr>\n",
       "    <tr>\n",
       "      <th>Mortes</th>\n",
       "      <td>13672</td>\n",
       "    </tr>\n",
       "    <tr>\n",
       "      <th>MVP</th>\n",
       "      <td>1437</td>\n",
       "    </tr>\n",
       "    <tr>\n",
       "      <th>Pontos</th>\n",
       "      <td>31233</td>\n",
       "    </tr>\n",
       "    <tr>\n",
       "      <th>% de HS</th>\n",
       "      <td>28.46 %</td>\n",
       "    </tr>\n",
       "    <tr>\n",
       "      <th>Rounds Jogados</th>\n",
       "      <td>20102</td>\n",
       "    </tr>\n",
       "    <tr>\n",
       "      <th>Rounds Ganhos</th>\n",
       "      <td>10286</td>\n",
       "    </tr>\n",
       "    <tr>\n",
       "      <th>Rounds Perdidos</th>\n",
       "      <td>9816</td>\n",
       "    </tr>\n",
       "    <tr>\n",
       "      <th>Resultado_Derrota</th>\n",
       "      <td>330</td>\n",
       "    </tr>\n",
       "    <tr>\n",
       "      <th>Resultado_Empate</th>\n",
       "      <td>82</td>\n",
       "    </tr>\n",
       "    <tr>\n",
       "      <th>Resultado_Vitória</th>\n",
       "      <td>370</td>\n",
       "    </tr>\n",
       "  </tbody>\n",
       "</table>\n",
       "</div>"
      ],
      "text/plain": [
       "                                     \n",
       "Quantidade de Jogos               782\n",
       "Jogo mais Antigo           06-11-2017\n",
       "Jogo mais Recente          27-08-2020\n",
       "Duração              22 days 19:12:49\n",
       "Vitimas                         11680\n",
       "Assistencias                     3324\n",
       "Mortes                          13672\n",
       "MVP                              1437\n",
       "Pontos                          31233\n",
       "% de HS                       28.46 %\n",
       "Rounds Jogados                  20102\n",
       "Rounds Ganhos                   10286\n",
       "Rounds Perdidos                  9816\n",
       "Resultado_Derrota                 330\n",
       "Resultado_Empate                   82\n",
       "Resultado_Vitória                 370"
      ]
     },
     "execution_count": 76,
     "metadata": {},
     "output_type": "execute_result"
    }
   ],
   "source": [
    "dfif"
   ]
  },
  {
   "cell_type": "code",
   "execution_count": 77,
   "metadata": {},
   "outputs": [],
   "source": [
    "def somaColuna (x):\n",
    "    return x.sum() \n",
    "\n",
    "def mediaColuna(x):\n",
    "    return x.sum()/x.shape[0]\n",
    "\n",
    "def mediaRound(x):\n",
    "    return x.sum()/result['Rounds Jogados'].sum()"
   ]
  },
  {
   "cell_type": "code",
   "execution_count": 78,
   "metadata": {},
   "outputs": [],
   "source": [
    "import matplotlib.pyplot as plt\n",
    "%matplotlib inline"
   ]
  },
  {
   "cell_type": "code",
   "execution_count": 79,
   "metadata": {},
   "outputs": [
    {
     "data": {
      "text/plain": [
       "Ano\n",
       "2017       40\n",
       "2018     9821\n",
       "2019     3303\n",
       "2020    18069\n",
       "Name: Pontos, dtype: int32"
      ]
     },
     "execution_count": 79,
     "metadata": {},
     "output_type": "execute_result"
    }
   ],
   "source": [
    "#result.set_index('Data', inplace=True)\n",
    "result.groupby('Ano')['Pontos'].sum()"
   ]
  },
  {
   "cell_type": "code",
   "execution_count": 80,
   "metadata": {},
   "outputs": [
    {
     "data": {
      "image/png": "[encoded data removed]",
      "text/plain": [
       "<Figure size 1440x720 with 1 Axes>"
      ]
     },
     "metadata": {
      "needs_background": "dark"
     },
     "output_type": "display_data"
    }
   ],
   "source": [
    "plt.figure(figsize=(20,10))\n",
    "ax = result.groupby('Ano')['Rounds Ganhos'].sum().plot(legend=True)"
   ]
  },
  {
   "cell_type": "code",
   "execution_count": 81,
   "metadata": {},
   "outputs": [
    {
     "data": {
      "image/png": "[encoded data removed]",
      "text/plain": [
       "<Figure size 432x288 with 1 Axes>"
      ]
     },
     "metadata": {
      "needs_background": "dark"
     },
     "output_type": "display_data"
    }
   ],
   "source": [
    "ax = result.groupby('Ano')['Pontos'].mean().plot(legend=True)"
   ]
  },
  {
   "cell_type": "code",
   "execution_count": 82,
   "metadata": {},
   "outputs": [
    {
     "data": {
      "text/plain": [
       "(array([ 0. ,  2.5,  5. ,  7.5, 10. , 12.5, 15. , 17.5, 20. , 22.5]),\n",
       " <a list of 10 Text xticklabel objects>)"
      ]
     },
     "execution_count": 82,
     "metadata": {},
     "output_type": "execute_result"
    },
    {
     "data": {
      "image/png": "[encoded data removed]",
      "text/plain": [
       "<Figure size 1440x720 with 1 Axes>"
      ]
     },
     "metadata": {
      "needs_background": "dark"
     },
     "output_type": "display_data"
    }
   ],
   "source": [
    "plt.figure(figsize=(20,10))\n",
    "ax = result.groupby('Ano-Mês')['% de HS'].mean().plot(legend=True)\n",
    "plt.xticks(rotation=45)"
   ]
  },
  {
   "cell_type": "code",
   "execution_count": 83,
   "metadata": {},
   "outputs": [
    {
     "data": {
      "text/plain": [
       "(array([ 0. ,  2.5,  5. ,  7.5, 10. , 12.5, 15. , 17.5, 20. , 22.5]),\n",
       " <a list of 10 Text xticklabel objects>)"
      ]
     },
     "execution_count": 83,
     "metadata": {},
     "output_type": "execute_result"
    },
    {
     "data": {
      "image/png": "[encoded data removed]",
      "text/plain": [
       "<Figure size 1440x720 with 1 Axes>"
      ]
     },
     "metadata": {
      "needs_background": "dark"
     },
     "output_type": "display_data"
    }
   ],
   "source": [
    "plt.figure(figsize=(20,10))\n",
    "ax = result.groupby('Ano-Mês')['Pontos'].mean().plot(legend=True)\n",
    "plt.xticks(rotation=45)"
   ]
  },
  {
   "cell_type": "code",
   "execution_count": 84,
   "metadata": {},
   "outputs": [
    {
     "data": {
      "text/plain": [
       "array(['Mirage', Timedelta('0 days 00:42:32'), '27-08-2020', 19, 1, 18, 2,\n",
       "       10, 42, 12, 16, 28, 'Derrota', '2020-08', '2020', 1, 0, 0],\n",
       "      dtype=object)"
      ]
     },
     "execution_count": 84,
     "metadata": {},
     "output_type": "execute_result"
    }
   ],
   "source": [
    "result.values[0]"
   ]
  },
  {
   "cell_type": "code",
   "execution_count": 87,
   "metadata": {},
   "outputs": [],
   "source": [
    "result.to_csv(\"csgo.csv\")"
   ]
  },
  {
   "cell_type": "code",
   "execution_count": null,
   "metadata": {},
   "outputs": [],
   "source": []
  }
 ],
 "metadata": {
  "kernelspec": {
   "display_name": "Python 3",
   "language": "python",
   "name": "python3"
  },
  "language_info": {
   "codemirror_mode": {
    "name": "ipython",
    "version": 3
   },
   "file_extension": ".py",
   "mimetype": "text/x-python",
   "name": "python",
   "nbconvert_exporter": "python",
   "pygments_lexer": "ipython3",
   "version": "3.7.3"
  }
 },
 "nbformat": 4,
 "nbformat_minor": 2
}
